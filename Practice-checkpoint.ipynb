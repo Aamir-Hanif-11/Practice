{
 "cells": [
  {
   "cell_type": "code",
   "execution_count": 3,
   "id": "2b269836-dc3f-4c2e-81f0-1476fe905c34",
   "metadata": {},
   "outputs": [
    {
     "name": "stdout",
     "output_type": "stream",
     "text": [
      "Name:\t\tMuhammae Amir\n",
      "Father Name:\tMuhammad Hanif Khan\n",
      "Date of Birth:\t11-01-1975\n"
     ]
    }
   ],
   "source": [
    "name = \"Muhammae Amir\"\n",
    "f_name = \"Muhammad Hanif Khan\"\n",
    "DOB = \"11-01-1975\"\n",
    "\n",
    "print(\"Name:\\t\\t\" + name)\n",
    "print(\"Father Name:\\t\" + f_name)\n",
    "print(\"Date of Birth:\\t\" + DOB)"
   ]
  },
  {
   "cell_type": "code",
   "execution_count": 4,
   "id": "f1bbdb81-0355-4b75-bdff-128ff2b7395b",
   "metadata": {},
   "outputs": [
    {
     "name": "stdout",
     "output_type": "stream",
     "text": [
      "Name:\t\tMuhammae Amir\n",
      "Father Name:\tMuhammad Hanif Khan\n",
      "Date of Birth:\t11-01-1975\n",
      "Occupation:\tAccountant\n",
      "Hobbies:\tStudying, learning and watching movies\n"
     ]
    }
   ],
   "source": [
    "occupation = \"Accountant\"\n",
    "hobbies = \"Studying, learning and watching movies\"\n",
    "\n",
    "print(\"Name:\\t\\t\" + name)\n",
    "print(\"Father Name:\\t\" + f_name)\n",
    "print(\"Date of Birth:\\t\" + DOB)\n",
    "print(\"Occupation:\\t\" + occupation)\n",
    "print(\"Hobbies:\\t\" + hobbies)"
   ]
  },
  {
   "cell_type": "code",
   "execution_count": 21,
   "id": "7ba7ebe7-7db2-4cb5-b35a-9b2807a973ba",
   "metadata": {},
   "outputs": [
    {
     "name": "stdout",
     "output_type": "stream",
     "text": [
      "Addition\t : 5 + 3 = 8\n",
      "Substruction\t : 5 - 3 = 2\n",
      "Multipulcation\t : 5 x 3 = 15\n",
      "Divided\t\t : 5 / 3 = 1.6666666666666667\n",
      "Floor divided\t : 5 // 3 = 1\n"
     ]
    }
   ],
   "source": [
    "# Operator\n",
    "\n",
    "a = 5\n",
    "b = 3\n",
    "\n",
    "print(f\"Addition\\t : {a} + {b} = {a + b}\")\n",
    "print(f\"Substruction\\t : {a} - {b} = {a - b}\")\n",
    "print(f\"Multipulcation\\t : {a} x {b} = {a * b}\")\n",
    "print(f\"Divided\\t\\t : {a} / {b} = {a / b}\")\n",
    "print(f\"Floor divided\\t : {a} // {b} = {a // b}\")"
   ]
  },
  {
   "cell_type": "code",
   "execution_count": 1,
   "id": "626518a5-08a7-4338-8a2f-2956e79af517",
   "metadata": {},
   "outputs": [
    {
     "name": "stdin",
     "output_type": "stream",
     "text": [
      "Enter your salary:  125000\n",
      "Enter your years of service:  20\n"
     ]
    },
    {
     "name": "stdout",
     "output_type": "stream",
     "text": [
      "Your net bonus amount is: 6250.0\n"
     ]
    }
   ],
   "source": [
    "# Function to calculate bonus\n",
    "def calculate_bonus(salary, years_of_service):\n",
    "    if years_of_service > 5:\n",
    "        bonus = salary * 0.05\n",
    "        return bonus\n",
    "    else:\n",
    "        return 0\n",
    "\n",
    "# Get user input\n",
    "salary = float(input(\"Enter your salary: \"))\n",
    "years_of_service = int(input(\"Enter your years of service: \"))\n",
    "\n",
    "# Calculate bonus\n",
    "bonus = calculate_bonus(salary, years_of_service)\n",
    "\n",
    "# Print the net bonus amount\n",
    "print(f\"Your net bonus amount is: {bonus}\")"
   ]
  },
  {
   "cell_type": "code",
   "execution_count": 1,
   "id": "73f61350-9eae-4c95-b349-6e2ed786a5ef",
   "metadata": {},
   "outputs": [
    {
     "name": "stdin",
     "output_type": "stream",
     "text": [
      "Enter your salary:  150000\n",
      "Enter your years of service:  21\n"
     ]
    },
    {
     "name": "stdout",
     "output_type": "stream",
     "text": [
      "Your net bonus amount is: 7500.0\n"
     ]
    }
   ],
   "source": [
    "# 1. A company decided to give bonus of 5% to employee if his/her year of service is more than 5 years. Ask user for their salary and year of service and print the net bonus amount.\n",
    "\n",
    "# Function to calculate the bonus\n",
    "def calculate_bonus(salary, years_of_service):\n",
    "    if years_of_service > 5:\n",
    "        bonus = 0.05 * salary\n",
    "    else:\n",
    "        bonus = 0\n",
    "    return bonus\n",
    "\n",
    "# Ask user for their salary and years of service\n",
    "salary = float(input(\"Enter your salary: \"))\n",
    "years_of_service = int(input(\"Enter your years of service: \"))\n",
    "\n",
    "# Calculate the bonus\n",
    "bonus = calculate_bonus(salary, years_of_service)\n",
    "\n",
    "# Print the net bonus amount\n",
    "print(f\"Your net bonus amount is: {bonus}\")"
   ]
  },
  {
   "cell_type": "code",
   "execution_count": 17,
   "id": "a1a1a782-159c-4169-b2ae-dc23c9813c18",
   "metadata": {},
   "outputs": [
    {
     "name": "stdout",
     "output_type": "stream",
     "text": [
      "Aamir 48  Thanks for your input\n",
      "50\n"
     ]
    }
   ],
   "source": [
    "# variable\n",
    "name = \"Aamir\"\n",
    "age = 48\n",
    "weight = 45.8\n",
    "education = True\n",
    "thank = \" Thanks for your input\"\n",
    "print(name, age, thank)\n",
    "print(age + 2)"
   ]
  },
  {
   "cell_type": "code",
   "execution_count": 18,
   "id": "11524ce3-c6da-4364-b2c1-514d43a3ff62",
   "metadata": {},
   "outputs": [
    {
     "name": "stdout",
     "output_type": "stream",
     "text": [
      "<class 'str'>\n",
      "<class 'int'>\n",
      "<class 'float'>\n",
      "<class 'bool'>\n"
     ]
    }
   ],
   "source": [
    "print(type(name))\n",
    "print(type(age))\n",
    "print(type(weight))\n",
    "print(type(education))"
   ]
  },
  {
   "cell_type": "code",
   "execution_count": 40,
   "id": "720bc9bc-ed40-4bc6-9348-fdd8e893495e",
   "metadata": {},
   "outputs": [
    {
     "data": {
      "text/plain": [
       "0"
      ]
     },
     "execution_count": 40,
     "metadata": {},
     "output_type": "execute_result"
    }
   ],
   "source": [
    "# Operator\n",
    "2 + 2\n",
    "4 - 2\n",
    "2 * 2\n",
    "2 / 2\n",
    "2 ** 2\n",
    "2 % 2"
   ]
  },
  {
   "cell_type": "code",
   "execution_count": 42,
   "id": "14cf5107-4c9b-4640-b4fa-294aedbf99d6",
   "metadata": {},
   "outputs": [
    {
     "data": {
      "text/plain": [
       "1"
      ]
     },
     "execution_count": 42,
     "metadata": {},
     "output_type": "execute_result"
    }
   ],
   "source": [
    "9 % 4"
   ]
  },
  {
   "cell_type": "code",
   "execution_count": 66,
   "id": "763d395e-6619-4325-a5c3-044021abfcdb",
   "metadata": {},
   "outputs": [
    {
     "name": "stdin",
     "output_type": "stream",
     "text": [
      "Enter table:  77\n"
     ]
    },
    {
     "name": "stdout",
     "output_type": "stream",
     "text": [
      "77  x 1 = 77\n",
      "77  x 2 = 154\n",
      "77  x 3 = 231\n",
      "77  x 4 = 308\n",
      "77  x 5 = 385\n",
      "77  x 6 = 462\n",
      "77  x 7 = 539\n",
      "77  x 8 = 616\n",
      "77  x 9 = 693\n",
      "77  x 10 = 770\n"
     ]
    }
   ],
   "source": [
    "t=int(input(\"Enter table: \"))\n",
    "print(t,\" x 1 =\", t)\n",
    "print(t,\" x 2 =\", t*2)\n",
    "print(t,\" x 3 =\", t*3)\n",
    "print(t,\" x 4 =\", t*4)\n",
    "print(t,\" x 5 =\", t*5)\n",
    "print(t,\" x 6 =\", t*6)\n",
    "print(t,\" x 7 =\", t*7)\n",
    "print(t,\" x 8 =\", t*8)\n",
    "print(t,\" x 9 =\", t*9)\n",
    "print(t,\" x 10 =\", t*10)"
   ]
  },
  {
   "cell_type": "code",
   "execution_count": 83,
   "id": "e2af1459-40bf-4b1b-af59-bc4756c21ac6",
   "metadata": {},
   "outputs": [
    {
     "name": "stdin",
     "output_type": "stream",
     "text": [
      "Enter your Name:  Jawaid\n"
     ]
    },
    {
     "name": "stdout",
     "output_type": "stream",
     "text": [
      "Jawaid said, \"I am a liar\"\n"
     ]
    }
   ],
   "source": [
    "name=str(input(\"Enter your Name: \"))\n",
    "print(name, \"said, \\\"I am a liar\\\"\")"
   ]
  },
  {
   "cell_type": "code",
   "execution_count": 85,
   "id": "3562a7cc-796e-4837-984f-5eec87fafbe4",
   "metadata": {},
   "outputs": [
    {
     "name": "stdout",
     "output_type": "stream",
     "text": [
      "I am Aamir Hanif,\n",
      "I am a good person\n",
      "love to Pakistan\n"
     ]
    }
   ],
   "source": [
    "#Paragh\n",
    "para = '''I am Aamir Hanif,\n",
    "I am a good person\n",
    "love to Pakistan'''\n",
    "print(para)"
   ]
  },
  {
   "cell_type": "code",
   "execution_count": null,
   "id": "5eb78e80-c30c-4bcf-9112-f9362f9989e0",
   "metadata": {},
   "outputs": [],
   "source": []
  }
 ],
 "metadata": {
  "kernelspec": {
   "display_name": "Python 3 (ipykernel)",
   "language": "python",
   "name": "python3"
  },
  "language_info": {
   "codemirror_mode": {
    "name": "ipython",
    "version": 3
   },
   "file_extension": ".py",
   "mimetype": "text/x-python",
   "name": "python",
   "nbconvert_exporter": "python",
   "pygments_lexer": "ipython3",
   "version": "3.11.7"
  }
 },
 "nbformat": 4,
 "nbformat_minor": 5
}
